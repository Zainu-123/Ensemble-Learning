{
 "cells": [
  {
   "cell_type": "markdown",
   "id": "72c6f835",
   "metadata": {},
   "source": [
    "# COURSE 5 / ENSEMBLE MODELLING / PROJECT"
   ]
  },
  {
   "cell_type": "markdown",
   "id": "0854cde4",
   "metadata": {},
   "source": [
    "## Importing Libraries"
   ]
  },
  {
   "cell_type": "code",
   "execution_count": 1,
   "id": "b8e6cf3b",
   "metadata": {},
   "outputs": [],
   "source": [
    "# Importing libraries \n",
    "import pandas as pd \n",
    "import numpy as np\n",
    "import matplotlib.pyplot as plt\n",
    "%matplotlib inline\n",
    "\n",
    "import warnings\n",
    "warnings.filterwarnings(\"ignore\")"
   ]
  },
  {
   "cell_type": "markdown",
   "id": "d18be3fb",
   "metadata": {},
   "source": [
    "## Loading the dataset"
   ]
  },
  {
   "cell_type": "code",
   "execution_count": 2,
   "id": "7a2ffaee",
   "metadata": {},
   "outputs": [],
   "source": [
    "data = pd.read_csv('nyc_taxi_trip_duration Dataset.csv')"
   ]
  },
  {
   "cell_type": "markdown",
   "id": "8a4b0f56",
   "metadata": {},
   "source": [
    "## Exploring the dataset"
   ]
  },
  {
   "cell_type": "code",
   "execution_count": 3,
   "id": "1d624020",
   "metadata": {},
   "outputs": [
    {
     "data": {
      "text/plain": [
       "(729322, 11)"
      ]
     },
     "execution_count": 3,
     "metadata": {},
     "output_type": "execute_result"
    }
   ],
   "source": [
    "# Finding the shape of the dataset\n",
    "data.shape"
   ]
  },
  {
   "cell_type": "code",
   "execution_count": 4,
   "id": "fc284112",
   "metadata": {},
   "outputs": [
    {
     "data": {
      "text/html": [
       "<div>\n",
       "<style scoped>\n",
       "    .dataframe tbody tr th:only-of-type {\n",
       "        vertical-align: middle;\n",
       "    }\n",
       "\n",
       "    .dataframe tbody tr th {\n",
       "        vertical-align: top;\n",
       "    }\n",
       "\n",
       "    .dataframe thead th {\n",
       "        text-align: right;\n",
       "    }\n",
       "</style>\n",
       "<table border=\"1\" class=\"dataframe\">\n",
       "  <thead>\n",
       "    <tr style=\"text-align: right;\">\n",
       "      <th></th>\n",
       "      <th>id</th>\n",
       "      <th>vendor_id</th>\n",
       "      <th>pickup_datetime</th>\n",
       "      <th>dropoff_datetime</th>\n",
       "      <th>passenger_count</th>\n",
       "      <th>pickup_longitude</th>\n",
       "      <th>pickup_latitude</th>\n",
       "      <th>dropoff_longitude</th>\n",
       "      <th>dropoff_latitude</th>\n",
       "      <th>store_and_fwd_flag</th>\n",
       "      <th>trip_duration</th>\n",
       "    </tr>\n",
       "  </thead>\n",
       "  <tbody>\n",
       "    <tr>\n",
       "      <th>0</th>\n",
       "      <td>id1080784</td>\n",
       "      <td>2</td>\n",
       "      <td>2016-02-29 16:40:21</td>\n",
       "      <td>2016-02-29 16:47:01</td>\n",
       "      <td>1</td>\n",
       "      <td>-73.953918</td>\n",
       "      <td>40.778873</td>\n",
       "      <td>-73.963875</td>\n",
       "      <td>40.771164</td>\n",
       "      <td>N</td>\n",
       "      <td>400</td>\n",
       "    </tr>\n",
       "    <tr>\n",
       "      <th>1</th>\n",
       "      <td>id0889885</td>\n",
       "      <td>1</td>\n",
       "      <td>2016-03-11 23:35:37</td>\n",
       "      <td>2016-03-11 23:53:57</td>\n",
       "      <td>2</td>\n",
       "      <td>-73.988312</td>\n",
       "      <td>40.731743</td>\n",
       "      <td>-73.994751</td>\n",
       "      <td>40.694931</td>\n",
       "      <td>N</td>\n",
       "      <td>1100</td>\n",
       "    </tr>\n",
       "    <tr>\n",
       "      <th>2</th>\n",
       "      <td>id0857912</td>\n",
       "      <td>2</td>\n",
       "      <td>2016-02-21 17:59:33</td>\n",
       "      <td>2016-02-21 18:26:48</td>\n",
       "      <td>2</td>\n",
       "      <td>-73.997314</td>\n",
       "      <td>40.721458</td>\n",
       "      <td>-73.948029</td>\n",
       "      <td>40.774918</td>\n",
       "      <td>N</td>\n",
       "      <td>1635</td>\n",
       "    </tr>\n",
       "    <tr>\n",
       "      <th>3</th>\n",
       "      <td>id3744273</td>\n",
       "      <td>2</td>\n",
       "      <td>2016-01-05 09:44:31</td>\n",
       "      <td>2016-01-05 10:03:32</td>\n",
       "      <td>6</td>\n",
       "      <td>-73.961670</td>\n",
       "      <td>40.759720</td>\n",
       "      <td>-73.956779</td>\n",
       "      <td>40.780628</td>\n",
       "      <td>N</td>\n",
       "      <td>1141</td>\n",
       "    </tr>\n",
       "    <tr>\n",
       "      <th>4</th>\n",
       "      <td>id0232939</td>\n",
       "      <td>1</td>\n",
       "      <td>2016-02-17 06:42:23</td>\n",
       "      <td>2016-02-17 06:56:31</td>\n",
       "      <td>1</td>\n",
       "      <td>-74.017120</td>\n",
       "      <td>40.708469</td>\n",
       "      <td>-73.988182</td>\n",
       "      <td>40.740631</td>\n",
       "      <td>N</td>\n",
       "      <td>848</td>\n",
       "    </tr>\n",
       "  </tbody>\n",
       "</table>\n",
       "</div>"
      ],
      "text/plain": [
       "          id  vendor_id      pickup_datetime     dropoff_datetime  \\\n",
       "0  id1080784          2  2016-02-29 16:40:21  2016-02-29 16:47:01   \n",
       "1  id0889885          1  2016-03-11 23:35:37  2016-03-11 23:53:57   \n",
       "2  id0857912          2  2016-02-21 17:59:33  2016-02-21 18:26:48   \n",
       "3  id3744273          2  2016-01-05 09:44:31  2016-01-05 10:03:32   \n",
       "4  id0232939          1  2016-02-17 06:42:23  2016-02-17 06:56:31   \n",
       "\n",
       "   passenger_count  pickup_longitude  pickup_latitude  dropoff_longitude  \\\n",
       "0                1        -73.953918        40.778873         -73.963875   \n",
       "1                2        -73.988312        40.731743         -73.994751   \n",
       "2                2        -73.997314        40.721458         -73.948029   \n",
       "3                6        -73.961670        40.759720         -73.956779   \n",
       "4                1        -74.017120        40.708469         -73.988182   \n",
       "\n",
       "   dropoff_latitude store_and_fwd_flag  trip_duration  \n",
       "0         40.771164                  N            400  \n",
       "1         40.694931                  N           1100  \n",
       "2         40.774918                  N           1635  \n",
       "3         40.780628                  N           1141  \n",
       "4         40.740631                  N            848  "
      ]
     },
     "execution_count": 4,
     "metadata": {},
     "output_type": "execute_result"
    }
   ],
   "source": [
    "# Viewing the first 5 rows\n",
    "data.head()"
   ]
  },
  {
   "cell_type": "code",
   "execution_count": 5,
   "id": "7ee429a0",
   "metadata": {},
   "outputs": [
    {
     "data": {
      "text/plain": [
       "id                    0\n",
       "vendor_id             0\n",
       "pickup_datetime       0\n",
       "dropoff_datetime      0\n",
       "passenger_count       0\n",
       "pickup_longitude      0\n",
       "pickup_latitude       0\n",
       "dropoff_longitude     0\n",
       "dropoff_latitude      0\n",
       "store_and_fwd_flag    0\n",
       "trip_duration         0\n",
       "dtype: int64"
      ]
     },
     "execution_count": 5,
     "metadata": {},
     "output_type": "execute_result"
    }
   ],
   "source": [
    "# Checking for missing values\n",
    "data.isnull().sum()"
   ]
  },
  {
   "cell_type": "code",
   "execution_count": 6,
   "id": "25f07b2c",
   "metadata": {},
   "outputs": [
    {
     "data": {
      "text/plain": [
       "id                     object\n",
       "vendor_id               int64\n",
       "pickup_datetime        object\n",
       "dropoff_datetime       object\n",
       "passenger_count         int64\n",
       "pickup_longitude      float64\n",
       "pickup_latitude       float64\n",
       "dropoff_longitude     float64\n",
       "dropoff_latitude      float64\n",
       "store_and_fwd_flag     object\n",
       "trip_duration           int64\n",
       "dtype: object"
      ]
     },
     "execution_count": 6,
     "metadata": {},
     "output_type": "execute_result"
    }
   ],
   "source": [
    "# Checking the datatype of the variables\n",
    "data.dtypes"
   ]
  },
  {
   "cell_type": "markdown",
   "id": "a131f1f1",
   "metadata": {},
   "source": [
    "## Feature Creation"
   ]
  },
  {
   "cell_type": "code",
   "execution_count": 7,
   "id": "599b0b4b",
   "metadata": {},
   "outputs": [],
   "source": [
    "# Converting datetime variables which are in object form to datetime datatype\n",
    "\n",
    "data['pickup_datetime']=pd.to_datetime(data['pickup_datetime'])\n",
    "data['dropoff_datetime']=pd.to_datetime(data['dropoff_datetime'])"
   ]
  },
  {
   "cell_type": "code",
   "execution_count": 8,
   "id": "206a27b2",
   "metadata": {},
   "outputs": [],
   "source": [
    "# Creating features based on month\n",
    "\n",
    "data['pickup_month']=data['pickup_datetime'].dt.month\n",
    "data['dropoff_month']=data['dropoff_datetime'].dt.month"
   ]
  },
  {
   "cell_type": "code",
   "execution_count": 9,
   "id": "364497fa",
   "metadata": {},
   "outputs": [],
   "source": [
    "# Creating features based on the day of week\n",
    "\n",
    "data['pickup_day_no']=data['pickup_datetime'].dt.weekday\n",
    "data['dropoff_day_no']=data['dropoff_datetime'].dt.weekday"
   ]
  },
  {
   "cell_type": "code",
   "execution_count": 10,
   "id": "5932a14b",
   "metadata": {},
   "outputs": [],
   "source": [
    "# Creating features based on hour of the day\n",
    "\n",
    "data['pickup_hour']=data['pickup_datetime'].dt.hour\n",
    "data['dropoff_hour']=data['dropoff_datetime'].dt.hour\n"
   ]
  },
  {
   "cell_type": "code",
   "execution_count": 11,
   "id": "210b191f",
   "metadata": {},
   "outputs": [
    {
     "data": {
      "text/html": [
       "<div>\n",
       "<style scoped>\n",
       "    .dataframe tbody tr th:only-of-type {\n",
       "        vertical-align: middle;\n",
       "    }\n",
       "\n",
       "    .dataframe tbody tr th {\n",
       "        vertical-align: top;\n",
       "    }\n",
       "\n",
       "    .dataframe thead th {\n",
       "        text-align: right;\n",
       "    }\n",
       "</style>\n",
       "<table border=\"1\" class=\"dataframe\">\n",
       "  <thead>\n",
       "    <tr style=\"text-align: right;\">\n",
       "      <th></th>\n",
       "      <th>id</th>\n",
       "      <th>vendor_id</th>\n",
       "      <th>pickup_datetime</th>\n",
       "      <th>dropoff_datetime</th>\n",
       "      <th>passenger_count</th>\n",
       "      <th>pickup_longitude</th>\n",
       "      <th>pickup_latitude</th>\n",
       "      <th>dropoff_longitude</th>\n",
       "      <th>dropoff_latitude</th>\n",
       "      <th>store_and_fwd_flag</th>\n",
       "      <th>trip_duration</th>\n",
       "      <th>pickup_month</th>\n",
       "      <th>dropoff_month</th>\n",
       "      <th>pickup_day_no</th>\n",
       "      <th>dropoff_day_no</th>\n",
       "      <th>pickup_hour</th>\n",
       "      <th>dropoff_hour</th>\n",
       "    </tr>\n",
       "  </thead>\n",
       "  <tbody>\n",
       "    <tr>\n",
       "      <th>0</th>\n",
       "      <td>id1080784</td>\n",
       "      <td>2</td>\n",
       "      <td>2016-02-29 16:40:21</td>\n",
       "      <td>2016-02-29 16:47:01</td>\n",
       "      <td>1</td>\n",
       "      <td>-73.953918</td>\n",
       "      <td>40.778873</td>\n",
       "      <td>-73.963875</td>\n",
       "      <td>40.771164</td>\n",
       "      <td>N</td>\n",
       "      <td>400</td>\n",
       "      <td>2</td>\n",
       "      <td>2</td>\n",
       "      <td>0</td>\n",
       "      <td>0</td>\n",
       "      <td>16</td>\n",
       "      <td>16</td>\n",
       "    </tr>\n",
       "    <tr>\n",
       "      <th>1</th>\n",
       "      <td>id0889885</td>\n",
       "      <td>1</td>\n",
       "      <td>2016-03-11 23:35:37</td>\n",
       "      <td>2016-03-11 23:53:57</td>\n",
       "      <td>2</td>\n",
       "      <td>-73.988312</td>\n",
       "      <td>40.731743</td>\n",
       "      <td>-73.994751</td>\n",
       "      <td>40.694931</td>\n",
       "      <td>N</td>\n",
       "      <td>1100</td>\n",
       "      <td>3</td>\n",
       "      <td>3</td>\n",
       "      <td>4</td>\n",
       "      <td>4</td>\n",
       "      <td>23</td>\n",
       "      <td>23</td>\n",
       "    </tr>\n",
       "    <tr>\n",
       "      <th>2</th>\n",
       "      <td>id0857912</td>\n",
       "      <td>2</td>\n",
       "      <td>2016-02-21 17:59:33</td>\n",
       "      <td>2016-02-21 18:26:48</td>\n",
       "      <td>2</td>\n",
       "      <td>-73.997314</td>\n",
       "      <td>40.721458</td>\n",
       "      <td>-73.948029</td>\n",
       "      <td>40.774918</td>\n",
       "      <td>N</td>\n",
       "      <td>1635</td>\n",
       "      <td>2</td>\n",
       "      <td>2</td>\n",
       "      <td>6</td>\n",
       "      <td>6</td>\n",
       "      <td>17</td>\n",
       "      <td>18</td>\n",
       "    </tr>\n",
       "    <tr>\n",
       "      <th>3</th>\n",
       "      <td>id3744273</td>\n",
       "      <td>2</td>\n",
       "      <td>2016-01-05 09:44:31</td>\n",
       "      <td>2016-01-05 10:03:32</td>\n",
       "      <td>6</td>\n",
       "      <td>-73.961670</td>\n",
       "      <td>40.759720</td>\n",
       "      <td>-73.956779</td>\n",
       "      <td>40.780628</td>\n",
       "      <td>N</td>\n",
       "      <td>1141</td>\n",
       "      <td>1</td>\n",
       "      <td>1</td>\n",
       "      <td>1</td>\n",
       "      <td>1</td>\n",
       "      <td>9</td>\n",
       "      <td>10</td>\n",
       "    </tr>\n",
       "    <tr>\n",
       "      <th>4</th>\n",
       "      <td>id0232939</td>\n",
       "      <td>1</td>\n",
       "      <td>2016-02-17 06:42:23</td>\n",
       "      <td>2016-02-17 06:56:31</td>\n",
       "      <td>1</td>\n",
       "      <td>-74.017120</td>\n",
       "      <td>40.708469</td>\n",
       "      <td>-73.988182</td>\n",
       "      <td>40.740631</td>\n",
       "      <td>N</td>\n",
       "      <td>848</td>\n",
       "      <td>2</td>\n",
       "      <td>2</td>\n",
       "      <td>2</td>\n",
       "      <td>2</td>\n",
       "      <td>6</td>\n",
       "      <td>6</td>\n",
       "    </tr>\n",
       "  </tbody>\n",
       "</table>\n",
       "</div>"
      ],
      "text/plain": [
       "          id  vendor_id     pickup_datetime    dropoff_datetime  \\\n",
       "0  id1080784          2 2016-02-29 16:40:21 2016-02-29 16:47:01   \n",
       "1  id0889885          1 2016-03-11 23:35:37 2016-03-11 23:53:57   \n",
       "2  id0857912          2 2016-02-21 17:59:33 2016-02-21 18:26:48   \n",
       "3  id3744273          2 2016-01-05 09:44:31 2016-01-05 10:03:32   \n",
       "4  id0232939          1 2016-02-17 06:42:23 2016-02-17 06:56:31   \n",
       "\n",
       "   passenger_count  pickup_longitude  pickup_latitude  dropoff_longitude  \\\n",
       "0                1        -73.953918        40.778873         -73.963875   \n",
       "1                2        -73.988312        40.731743         -73.994751   \n",
       "2                2        -73.997314        40.721458         -73.948029   \n",
       "3                6        -73.961670        40.759720         -73.956779   \n",
       "4                1        -74.017120        40.708469         -73.988182   \n",
       "\n",
       "   dropoff_latitude store_and_fwd_flag  trip_duration  pickup_month  \\\n",
       "0         40.771164                  N            400             2   \n",
       "1         40.694931                  N           1100             3   \n",
       "2         40.774918                  N           1635             2   \n",
       "3         40.780628                  N           1141             1   \n",
       "4         40.740631                  N            848             2   \n",
       "\n",
       "   dropoff_month  pickup_day_no  dropoff_day_no  pickup_hour  dropoff_hour  \n",
       "0              2              0               0           16            16  \n",
       "1              3              4               4           23            23  \n",
       "2              2              6               6           17            18  \n",
       "3              1              1               1            9            10  \n",
       "4              2              2               2            6             6  "
      ]
     },
     "execution_count": 11,
     "metadata": {},
     "output_type": "execute_result"
    }
   ],
   "source": [
    "data.head()"
   ]
  },
  {
   "cell_type": "code",
   "execution_count": 12,
   "id": "05bf8db0",
   "metadata": {},
   "outputs": [],
   "source": [
    "data = data.drop(columns=['id','pickup_datetime','dropoff_datetime','pickup_longitude','pickup_latitude','dropoff_longitude','dropoff_latitude'],axis=1)"
   ]
  },
  {
   "cell_type": "code",
   "execution_count": 13,
   "id": "a841b1ba",
   "metadata": {},
   "outputs": [],
   "source": [
    "# Converting all categorical variables into integer\n",
    "data = pd.get_dummies(data)"
   ]
  },
  {
   "cell_type": "code",
   "execution_count": 14,
   "id": "262a5666",
   "metadata": {},
   "outputs": [
    {
     "data": {
      "text/html": [
       "<div>\n",
       "<style scoped>\n",
       "    .dataframe tbody tr th:only-of-type {\n",
       "        vertical-align: middle;\n",
       "    }\n",
       "\n",
       "    .dataframe tbody tr th {\n",
       "        vertical-align: top;\n",
       "    }\n",
       "\n",
       "    .dataframe thead th {\n",
       "        text-align: right;\n",
       "    }\n",
       "</style>\n",
       "<table border=\"1\" class=\"dataframe\">\n",
       "  <thead>\n",
       "    <tr style=\"text-align: right;\">\n",
       "      <th></th>\n",
       "      <th>vendor_id</th>\n",
       "      <th>passenger_count</th>\n",
       "      <th>trip_duration</th>\n",
       "      <th>pickup_month</th>\n",
       "      <th>dropoff_month</th>\n",
       "      <th>pickup_day_no</th>\n",
       "      <th>dropoff_day_no</th>\n",
       "      <th>pickup_hour</th>\n",
       "      <th>dropoff_hour</th>\n",
       "      <th>store_and_fwd_flag_N</th>\n",
       "      <th>store_and_fwd_flag_Y</th>\n",
       "    </tr>\n",
       "  </thead>\n",
       "  <tbody>\n",
       "    <tr>\n",
       "      <th>0</th>\n",
       "      <td>2</td>\n",
       "      <td>1</td>\n",
       "      <td>400</td>\n",
       "      <td>2</td>\n",
       "      <td>2</td>\n",
       "      <td>0</td>\n",
       "      <td>0</td>\n",
       "      <td>16</td>\n",
       "      <td>16</td>\n",
       "      <td>1</td>\n",
       "      <td>0</td>\n",
       "    </tr>\n",
       "    <tr>\n",
       "      <th>1</th>\n",
       "      <td>1</td>\n",
       "      <td>2</td>\n",
       "      <td>1100</td>\n",
       "      <td>3</td>\n",
       "      <td>3</td>\n",
       "      <td>4</td>\n",
       "      <td>4</td>\n",
       "      <td>23</td>\n",
       "      <td>23</td>\n",
       "      <td>1</td>\n",
       "      <td>0</td>\n",
       "    </tr>\n",
       "    <tr>\n",
       "      <th>2</th>\n",
       "      <td>2</td>\n",
       "      <td>2</td>\n",
       "      <td>1635</td>\n",
       "      <td>2</td>\n",
       "      <td>2</td>\n",
       "      <td>6</td>\n",
       "      <td>6</td>\n",
       "      <td>17</td>\n",
       "      <td>18</td>\n",
       "      <td>1</td>\n",
       "      <td>0</td>\n",
       "    </tr>\n",
       "    <tr>\n",
       "      <th>3</th>\n",
       "      <td>2</td>\n",
       "      <td>6</td>\n",
       "      <td>1141</td>\n",
       "      <td>1</td>\n",
       "      <td>1</td>\n",
       "      <td>1</td>\n",
       "      <td>1</td>\n",
       "      <td>9</td>\n",
       "      <td>10</td>\n",
       "      <td>1</td>\n",
       "      <td>0</td>\n",
       "    </tr>\n",
       "    <tr>\n",
       "      <th>4</th>\n",
       "      <td>1</td>\n",
       "      <td>1</td>\n",
       "      <td>848</td>\n",
       "      <td>2</td>\n",
       "      <td>2</td>\n",
       "      <td>2</td>\n",
       "      <td>2</td>\n",
       "      <td>6</td>\n",
       "      <td>6</td>\n",
       "      <td>1</td>\n",
       "      <td>0</td>\n",
       "    </tr>\n",
       "  </tbody>\n",
       "</table>\n",
       "</div>"
      ],
      "text/plain": [
       "   vendor_id  passenger_count  trip_duration  pickup_month  dropoff_month  \\\n",
       "0          2                1            400             2              2   \n",
       "1          1                2           1100             3              3   \n",
       "2          2                2           1635             2              2   \n",
       "3          2                6           1141             1              1   \n",
       "4          1                1            848             2              2   \n",
       "\n",
       "   pickup_day_no  dropoff_day_no  pickup_hour  dropoff_hour  \\\n",
       "0              0               0           16            16   \n",
       "1              4               4           23            23   \n",
       "2              6               6           17            18   \n",
       "3              1               1            9            10   \n",
       "4              2               2            6             6   \n",
       "\n",
       "   store_and_fwd_flag_N  store_and_fwd_flag_Y  \n",
       "0                     1                     0  \n",
       "1                     1                     0  \n",
       "2                     1                     0  \n",
       "3                     1                     0  \n",
       "4                     1                     0  "
      ]
     },
     "execution_count": 14,
     "metadata": {},
     "output_type": "execute_result"
    }
   ],
   "source": [
    "data.head()"
   ]
  },
  {
   "cell_type": "code",
   "execution_count": 15,
   "id": "197d2b69",
   "metadata": {},
   "outputs": [
    {
     "data": {
      "text/plain": [
       "vendor_id               int64\n",
       "passenger_count         int64\n",
       "trip_duration           int64\n",
       "pickup_month            int64\n",
       "dropoff_month           int64\n",
       "pickup_day_no           int64\n",
       "dropoff_day_no          int64\n",
       "pickup_hour             int64\n",
       "dropoff_hour            int64\n",
       "store_and_fwd_flag_N    uint8\n",
       "store_and_fwd_flag_Y    uint8\n",
       "dtype: object"
      ]
     },
     "execution_count": 15,
     "metadata": {},
     "output_type": "execute_result"
    }
   ],
   "source": [
    "data.dtypes"
   ]
  },
  {
   "cell_type": "markdown",
   "id": "375d23ec",
   "metadata": {},
   "source": [
    "## We have converted all categorical variables into numeric variables for model building"
   ]
  },
  {
   "cell_type": "markdown",
   "id": "0d1f82df",
   "metadata": {},
   "source": [
    "## Seperating the features and target variable"
   ]
  },
  {
   "cell_type": "code",
   "execution_count": 16,
   "id": "351cbb84",
   "metadata": {},
   "outputs": [
    {
     "data": {
      "text/plain": [
       "((729322, 10), (729322,))"
      ]
     },
     "execution_count": 16,
     "metadata": {},
     "output_type": "execute_result"
    }
   ],
   "source": [
    "# Seperating independent and dependent variables\n",
    "\n",
    "x = data.drop(['trip_duration'], axis=1)\n",
    "y = data['trip_duration']\n",
    "x.shape, y.shape"
   ]
  },
  {
   "cell_type": "code",
   "execution_count": 17,
   "id": "708101f2",
   "metadata": {},
   "outputs": [],
   "source": [
    "# Importing Train test split\n",
    "\n",
    "from sklearn.model_selection import train_test_split\n",
    "train_x,test_x,train_y,test_y = train_test_split(x,y, random_state=101, shuffle=False)"
   ]
  },
  {
   "cell_type": "markdown",
   "id": "17208c38",
   "metadata": {},
   "source": [
    "## We have created 4 datasets for model building and evaluation.."
   ]
  },
  {
   "cell_type": "markdown",
   "id": "50e990d2",
   "metadata": {},
   "source": [
    "## Now, we have to import all the desired models from sklearn."
   ]
  },
  {
   "cell_type": "code",
   "execution_count": 18,
   "id": "907aa67a",
   "metadata": {},
   "outputs": [],
   "source": [
    "from sklearn.linear_model import LinearRegression\n",
    "from sklearn.neighbors import KNeighborsRegressor\n",
    "from sklearn.ensemble import RandomForestRegressor\n",
    "from sklearn.ensemble import GradientBoostingRegressor"
   ]
  },
  {
   "cell_type": "markdown",
   "id": "8333d209",
   "metadata": {},
   "source": [
    "## 1. Random Forest Model"
   ]
  },
  {
   "cell_type": "code",
   "execution_count": 19,
   "id": "4578bb40",
   "metadata": {},
   "outputs": [
    {
     "data": {
      "text/plain": [
       "(array([1284.20616809, 1201.83464413, 1157.86671104,  580.55084646,\n",
       "         702.11834884,  776.89930487,  747.21454274,  687.3008526 ,\n",
       "         719.52412762, 1345.47238554]),\n",
       " 0.9149387960368525)"
      ]
     },
     "execution_count": 19,
     "metadata": {},
     "output_type": "execute_result"
    }
   ],
   "source": [
    "model3 = RandomForestRegressor(random_state=96)\n",
    "model3.fit(train_x,train_y)\n",
    "pred3=model3.predict(test_x)\n",
    "pred3[:10], model3.score(test_x, test_y)"
   ]
  },
  {
   "cell_type": "markdown",
   "id": "7258b41e",
   "metadata": {},
   "source": [
    "## 2. Gradient Boosting Model"
   ]
  },
  {
   "cell_type": "code",
   "execution_count": 20,
   "id": "81acb464",
   "metadata": {},
   "outputs": [
    {
     "data": {
      "text/plain": [
       "(array([900.1011176 , 681.73434476, 887.78803134, 944.3153209 ,\n",
       "        946.99806986, 980.50608921, 915.10456319, 877.40553052,\n",
       "        721.48990682, 856.00787196]),\n",
       " -0.0813015826255945)"
      ]
     },
     "execution_count": 20,
     "metadata": {},
     "output_type": "execute_result"
    }
   ],
   "source": [
    "model4=GradientBoostingRegressor(random_state=96)\n",
    "model4.fit(train_x,train_y)\n",
    "pred4=model4.predict(test_x)\n",
    "pred4[:10], model4.score(test_x,test_y)"
   ]
  },
  {
   "cell_type": "markdown",
   "id": "a9bbbbc7",
   "metadata": {},
   "source": [
    "## For distance based algorithms, we need to standardise the values. "
   ]
  },
  {
   "cell_type": "code",
   "execution_count": 21,
   "id": "d1041e71",
   "metadata": {},
   "outputs": [],
   "source": [
    "# Importing the MinMax Scaler\n",
    "from sklearn.preprocessing import MinMaxScaler\n",
    "scaler = MinMaxScaler()\n",
    "x_scaled = scaler.fit_transform(x)"
   ]
  },
  {
   "cell_type": "code",
   "execution_count": 22,
   "id": "7b7ee4fc",
   "metadata": {},
   "outputs": [],
   "source": [
    "# Converting back into a dataframe\n",
    "x = pd.DataFrame(x_scaled)"
   ]
  },
  {
   "cell_type": "markdown",
   "id": "465fa468",
   "metadata": {},
   "source": [
    "## 3. Knn Model"
   ]
  },
  {
   "cell_type": "code",
   "execution_count": 23,
   "id": "4277a573",
   "metadata": {},
   "outputs": [
    {
     "data": {
      "text/plain": [
       "(array([1270.4, 1024. , 1206. ,  392.2, 1087.6,  744.6, 1174.2, 1226.8,\n",
       "         856.2, 1648.4]),\n",
       " -0.11728137925788618)"
      ]
     },
     "execution_count": 23,
     "metadata": {},
     "output_type": "execute_result"
    }
   ],
   "source": [
    "model1=KNeighborsRegressor()\n",
    "model1.fit(train_x,train_y)\n",
    "pred1=model1.predict(test_x)\n",
    "pred1[:10], model1.score(test_x,test_y)"
   ]
  },
  {
   "cell_type": "markdown",
   "id": "502fbaf9",
   "metadata": {},
   "source": [
    "## 4. Linear Regression Model"
   ]
  },
  {
   "cell_type": "code",
   "execution_count": 24,
   "id": "41aaf000",
   "metadata": {},
   "outputs": [
    {
     "data": {
      "text/plain": [
       "(array([ 871.11711709,  862.68638592,  854.27872535, 1046.91777139,\n",
       "        1051.90948173, 1013.7269324 ,  818.65352028,  777.20726788,\n",
       "         859.06894815,  792.35231899]),\n",
       " 0.00014600173021894758)"
      ]
     },
     "execution_count": 24,
     "metadata": {},
     "output_type": "execute_result"
    }
   ],
   "source": [
    "model2=LinearRegression()\n",
    "model2.fit(train_x,train_y)\n",
    "pred2=model2.predict(test_x)\n",
    "pred2[:10], model2.score(test_x,test_y)"
   ]
  },
  {
   "cell_type": "markdown",
   "id": "9acfe2b8",
   "metadata": {},
   "source": [
    "## Ensembling the four models using Averaging"
   ]
  },
  {
   "cell_type": "code",
   "execution_count": 25,
   "id": "e8c50456",
   "metadata": {},
   "outputs": [],
   "source": [
    "from statistics import mean\n",
    "final_pred = np.array([])\n",
    "for i in range(0,len(test_x)):\n",
    "    final_pred = np.append(final_pred, mean([pred1[i], pred2[i], pred3[i], pred4[i]]))"
   ]
  },
  {
   "cell_type": "markdown",
   "id": "dab0710d",
   "metadata": {},
   "source": [
    "## Testing the score of the final prediction with the actual test data"
   ]
  },
  {
   "cell_type": "code",
   "execution_count": 26,
   "id": "fc74269b",
   "metadata": {},
   "outputs": [],
   "source": [
    "from sklearn.metrics import r2_score"
   ]
  },
  {
   "cell_type": "code",
   "execution_count": 27,
   "id": "df95ee76",
   "metadata": {},
   "outputs": [
    {
     "data": {
      "text/plain": [
       "0.48284519887400945"
      ]
     },
     "execution_count": 27,
     "metadata": {},
     "output_type": "execute_result"
    }
   ],
   "source": [
    "r2_score(test_y,final_pred)"
   ]
  },
  {
   "cell_type": "code",
   "execution_count": 28,
   "id": "c1ef9c7b",
   "metadata": {},
   "outputs": [
    {
     "data": {
      "text/plain": [
       "(-0.11728137925788618,\n",
       " 0.00014600173021894758,\n",
       " 0.9149387960368525,\n",
       " -0.0813015826255945)"
      ]
     },
     "execution_count": 28,
     "metadata": {},
     "output_type": "execute_result"
    }
   ],
   "source": [
    "r2_score(test_y, pred1), r2_score(test_y, pred2), r2_score(test_y, pred3), r2_score(test_y,pred4)"
   ]
  },
  {
   "cell_type": "markdown",
   "id": "3a3bbe31",
   "metadata": {},
   "source": [
    "## The final score of the ensembled model is the average of the four individual models. "
   ]
  },
  {
   "cell_type": "markdown",
   "id": "e9086510",
   "metadata": {},
   "source": [
    "## The final ensembled score is found to be 0.48284519887400945"
   ]
  },
  {
   "cell_type": "markdown",
   "id": "f235e706",
   "metadata": {},
   "source": [
    "## Elbow curve for finding the best value of k"
   ]
  },
  {
   "cell_type": "code",
   "execution_count": 29,
   "id": "d06cded2",
   "metadata": {},
   "outputs": [
    {
     "data": {
      "text/html": [
       "<div>\n",
       "<style scoped>\n",
       "    .dataframe tbody tr th:only-of-type {\n",
       "        vertical-align: middle;\n",
       "    }\n",
       "\n",
       "    .dataframe tbody tr th {\n",
       "        vertical-align: top;\n",
       "    }\n",
       "\n",
       "    .dataframe thead th {\n",
       "        text-align: right;\n",
       "    }\n",
       "</style>\n",
       "<table border=\"1\" class=\"dataframe\">\n",
       "  <thead>\n",
       "    <tr style=\"text-align: right;\">\n",
       "      <th></th>\n",
       "      <th>0</th>\n",
       "      <th>1</th>\n",
       "      <th>2</th>\n",
       "      <th>3</th>\n",
       "      <th>4</th>\n",
       "      <th>5</th>\n",
       "      <th>6</th>\n",
       "      <th>7</th>\n",
       "      <th>8</th>\n",
       "      <th>9</th>\n",
       "    </tr>\n",
       "  </thead>\n",
       "  <tbody>\n",
       "    <tr>\n",
       "      <th>0</th>\n",
       "      <td>1.0</td>\n",
       "      <td>0.111111</td>\n",
       "      <td>0.2</td>\n",
       "      <td>0.166667</td>\n",
       "      <td>0.000000</td>\n",
       "      <td>0.000000</td>\n",
       "      <td>0.695652</td>\n",
       "      <td>0.695652</td>\n",
       "      <td>1.0</td>\n",
       "      <td>0.0</td>\n",
       "    </tr>\n",
       "    <tr>\n",
       "      <th>1</th>\n",
       "      <td>0.0</td>\n",
       "      <td>0.222222</td>\n",
       "      <td>0.4</td>\n",
       "      <td>0.333333</td>\n",
       "      <td>0.666667</td>\n",
       "      <td>0.666667</td>\n",
       "      <td>1.000000</td>\n",
       "      <td>1.000000</td>\n",
       "      <td>1.0</td>\n",
       "      <td>0.0</td>\n",
       "    </tr>\n",
       "    <tr>\n",
       "      <th>2</th>\n",
       "      <td>1.0</td>\n",
       "      <td>0.222222</td>\n",
       "      <td>0.2</td>\n",
       "      <td>0.166667</td>\n",
       "      <td>1.000000</td>\n",
       "      <td>1.000000</td>\n",
       "      <td>0.739130</td>\n",
       "      <td>0.782609</td>\n",
       "      <td>1.0</td>\n",
       "      <td>0.0</td>\n",
       "    </tr>\n",
       "    <tr>\n",
       "      <th>3</th>\n",
       "      <td>1.0</td>\n",
       "      <td>0.666667</td>\n",
       "      <td>0.0</td>\n",
       "      <td>0.000000</td>\n",
       "      <td>0.166667</td>\n",
       "      <td>0.166667</td>\n",
       "      <td>0.391304</td>\n",
       "      <td>0.434783</td>\n",
       "      <td>1.0</td>\n",
       "      <td>0.0</td>\n",
       "    </tr>\n",
       "    <tr>\n",
       "      <th>4</th>\n",
       "      <td>0.0</td>\n",
       "      <td>0.111111</td>\n",
       "      <td>0.2</td>\n",
       "      <td>0.166667</td>\n",
       "      <td>0.333333</td>\n",
       "      <td>0.333333</td>\n",
       "      <td>0.260870</td>\n",
       "      <td>0.260870</td>\n",
       "      <td>1.0</td>\n",
       "      <td>0.0</td>\n",
       "    </tr>\n",
       "  </tbody>\n",
       "</table>\n",
       "</div>"
      ],
      "text/plain": [
       "     0         1    2         3         4         5         6         7    8  \\\n",
       "0  1.0  0.111111  0.2  0.166667  0.000000  0.000000  0.695652  0.695652  1.0   \n",
       "1  0.0  0.222222  0.4  0.333333  0.666667  0.666667  1.000000  1.000000  1.0   \n",
       "2  1.0  0.222222  0.2  0.166667  1.000000  1.000000  0.739130  0.782609  1.0   \n",
       "3  1.0  0.666667  0.0  0.000000  0.166667  0.166667  0.391304  0.434783  1.0   \n",
       "4  0.0  0.111111  0.2  0.166667  0.333333  0.333333  0.260870  0.260870  1.0   \n",
       "\n",
       "     9  \n",
       "0  0.0  \n",
       "1  0.0  \n",
       "2  0.0  \n",
       "3  0.0  \n",
       "4  0.0  "
      ]
     },
     "execution_count": 29,
     "metadata": {},
     "output_type": "execute_result"
    }
   ],
   "source": [
    "x.head()"
   ]
  },
  {
   "cell_type": "code",
   "execution_count": 30,
   "id": "ccfe81ae",
   "metadata": {},
   "outputs": [
    {
     "data": {
      "text/plain": [
       "0     400\n",
       "1    1100\n",
       "2    1635\n",
       "3    1141\n",
       "4     848\n",
       "Name: trip_duration, dtype: int64"
      ]
     },
     "execution_count": 30,
     "metadata": {},
     "output_type": "execute_result"
    }
   ],
   "source": [
    "y.head()"
   ]
  },
  {
   "cell_type": "code",
   "execution_count": 31,
   "id": "b80a118a",
   "metadata": {},
   "outputs": [],
   "source": [
    "# Importing KNN regressor\n",
    "from sklearn.neighbors import KNeighborsRegressor as KNN\n",
    "\n",
    "# Importing MSE metric for evaluation\n",
    "from sklearn.metrics import mean_squared_error as mse\n"
   ]
  },
  {
   "cell_type": "code",
   "execution_count": 32,
   "id": "3d1ba481",
   "metadata": {},
   "outputs": [],
   "source": [
    "# Defining a function to train the data for different values of k\n",
    "def Elbow(K):\n",
    "  #initiating empty list\n",
    "    test_mse = []\n",
    "  \n",
    "  #training model for evey value of K\n",
    "    for i in K:\n",
    "        #Instance of KNN\n",
    "        reg = KNN(n_neighbors = i)\n",
    "        reg.fit(train_x, train_y)\n",
    "        #Appending mse value to empty list claculated using the predictions\n",
    "        tmp = reg.predict(test_x)\n",
    "        tmp = mse(tmp,test_y)\n",
    "        test_mse.append(tmp)\n",
    "    \n",
    "    return test_mse"
   ]
  },
  {
   "cell_type": "code",
   "execution_count": 33,
   "id": "ce603a0b",
   "metadata": {},
   "outputs": [],
   "source": [
    "#Defining K range\n",
    "k = range(1,40)"
   ]
  },
  {
   "cell_type": "code",
   "execution_count": 34,
   "id": "af462ca6",
   "metadata": {},
   "outputs": [],
   "source": [
    "# Calling above defined function\n",
    "test = Elbow(k)"
   ]
  },
  {
   "cell_type": "code",
   "execution_count": 35,
   "id": "5a5931ff",
   "metadata": {},
   "outputs": [
    {
     "data": {
      "text/plain": [
       "Text(0.5, 1.0, 'Elbow Curve for test')"
      ]
     },
     "execution_count": 35,
     "metadata": {},
     "output_type": "execute_result"
    },
    {
     "data": {
      "image/png": "[encoded data removed]",
      "text/plain": [
       "<Figure size 432x288 with 1 Axes>"
      ]
     },
     "metadata": {
      "needs_background": "light"
     },
     "output_type": "display_data"
    }
   ],
   "source": [
    "# plotting the Curves\n",
    "plt.plot(k, test)\n",
    "plt.xlabel('K Neighbors')\n",
    "plt.ylabel('Test Mean Squared Error')\n",
    "plt.title('Elbow Curve for test')"
   ]
  },
  {
   "cell_type": "markdown",
   "id": "08c6342c",
   "metadata": {},
   "source": [
    "## From the elbow curve, at k=8 the error seems to be the minimum. Therefore, the best value of k = 8"
   ]
  },
  {
   "cell_type": "markdown",
   "id": "a92f8746",
   "metadata": {},
   "source": [
    "## Let's see the impact of Regularization on the Linear regression model"
   ]
  },
  {
   "cell_type": "markdown",
   "id": "5bec8702",
   "metadata": {},
   "source": [
    "## Importing the Ridge and Lasso Regularization"
   ]
  },
  {
   "cell_type": "code",
   "execution_count": 38,
   "id": "e697ff83",
   "metadata": {},
   "outputs": [],
   "source": [
    "from sklearn.linear_model import Ridge\n",
    "from sklearn.linear_model import Lasso"
   ]
  },
  {
   "cell_type": "markdown",
   "id": "09a45ea4",
   "metadata": {},
   "source": [
    "## Building the Regularized Ridge model"
   ]
  },
  {
   "cell_type": "code",
   "execution_count": 39,
   "id": "70e7c6e1",
   "metadata": {},
   "outputs": [
    {
     "data": {
      "text/plain": [
       "(array([ 871.07917826,  862.65209732,  854.22833264, 1046.94440914,\n",
       "        1051.93261496, 1013.74448917,  818.66749663,  777.21204014,\n",
       "         859.09240869,  792.29603355]),\n",
       " 0.00017020182932303562)"
      ]
     },
     "execution_count": 39,
     "metadata": {},
     "output_type": "execute_result"
    }
   ],
   "source": [
    "model5= Ridge (alpha = 0.3)\n",
    "model5.fit(train_x,train_y)\n",
    "pred5=model5.predict(test_x)\n",
    "pred5[:10], model5.score(test_x,test_y)\n"
   ]
  },
  {
   "cell_type": "markdown",
   "id": "dcaed794",
   "metadata": {},
   "source": [
    "## Building the Regularized Lasso model"
   ]
  },
  {
   "cell_type": "code",
   "execution_count": 40,
   "id": "b9d5b6dd",
   "metadata": {},
   "outputs": [
    {
     "data": {
      "text/plain": [
       "(array([ 861.89119707,  855.36548233,  839.78976674, 1055.6833798 ,\n",
       "        1058.84247277, 1018.19044241,  822.52105114,  776.75912816,\n",
       "         867.36753426,  774.50184391]),\n",
       " 0.00040794171796509904)"
      ]
     },
     "execution_count": 40,
     "metadata": {},
     "output_type": "execute_result"
    }
   ],
   "source": [
    "model6= Lasso (alpha = 0.1)\n",
    "model6.fit(train_x,train_y)\n",
    "pred6=model6.predict(test_x)\n",
    "pred6[:10], model6.score(test_x,test_y)\n"
   ]
  },
  {
   "cell_type": "markdown",
   "id": "98636fed",
   "metadata": {},
   "source": [
    "## Replacing the Linear Regression Model with Ridge Regularization and checking the Average Ensembling."
   ]
  },
  {
   "cell_type": "code",
   "execution_count": 45,
   "id": "aec03138",
   "metadata": {},
   "outputs": [
    {
     "data": {
      "text/plain": [
       "(-0.11728137925788618,\n",
       " 0.00017020182932303562,\n",
       " 0.9149387960368525,\n",
       " -0.0813015826255945)"
      ]
     },
     "execution_count": 45,
     "metadata": {},
     "output_type": "execute_result"
    }
   ],
   "source": [
    "r2_score(test_y, pred1), r2_score(test_y, pred5), r2_score(test_y, pred3), r2_score(test_y,pred4)"
   ]
  },
  {
   "cell_type": "code",
   "execution_count": 46,
   "id": "62fa0241",
   "metadata": {},
   "outputs": [],
   "source": [
    "from statistics import mean\n",
    "final_pred = np.array([])\n",
    "for i in range(0,len(test_x)):\n",
    "    final_pred = np.append(final_pred, mean([pred1[i], pred5[i], pred3[i], pred4[i]]))"
   ]
  },
  {
   "cell_type": "code",
   "execution_count": 47,
   "id": "ddb4433f",
   "metadata": {},
   "outputs": [
    {
     "data": {
      "text/plain": [
       "0.48284540694056177"
      ]
     },
     "execution_count": 47,
     "metadata": {},
     "output_type": "execute_result"
    }
   ],
   "source": [
    "r2_score(test_y,final_pred)"
   ]
  },
  {
   "cell_type": "markdown",
   "id": "207a7e93",
   "metadata": {},
   "source": [
    "## The final ensembled score by implementing Ridge regularization is 0.48284540694056177"
   ]
  },
  {
   "cell_type": "markdown",
   "id": "f404716c",
   "metadata": {},
   "source": [
    "## Replacing the Linear Regression Model with Lasso Regularization and checking Average Ensembling."
   ]
  },
  {
   "cell_type": "code",
   "execution_count": 48,
   "id": "986ed1bc",
   "metadata": {},
   "outputs": [
    {
     "data": {
      "text/plain": [
       "(-0.11728137925788618,\n",
       " 0.00040794171796509904,\n",
       " 0.9149387960368525,\n",
       " -0.0813015826255945)"
      ]
     },
     "execution_count": 48,
     "metadata": {},
     "output_type": "execute_result"
    }
   ],
   "source": [
    "r2_score(test_y, pred1), r2_score(test_y, pred6), r2_score(test_y, pred3), r2_score(test_y,pred4)"
   ]
  },
  {
   "cell_type": "code",
   "execution_count": 49,
   "id": "ae9787c0",
   "metadata": {},
   "outputs": [],
   "source": [
    "from statistics import mean\n",
    "final_pred = np.array([])\n",
    "for i in range(0,len(test_x)):\n",
    "    final_pred = np.append(final_pred, mean([pred1[i], pred6[i], pred3[i], pred4[i]]))"
   ]
  },
  {
   "cell_type": "code",
   "execution_count": 50,
   "id": "7392755c",
   "metadata": {},
   "outputs": [
    {
     "data": {
      "text/plain": [
       "0.48249280262081873"
      ]
     },
     "execution_count": 50,
     "metadata": {},
     "output_type": "execute_result"
    }
   ],
   "source": [
    "r2_score(test_y,final_pred)"
   ]
  },
  {
   "cell_type": "markdown",
   "id": "af407d3f",
   "metadata": {},
   "source": [
    "## The final ensembled score by implementing Lasso regularization is 0.48249280262081873"
   ]
  },
  {
   "cell_type": "markdown",
   "id": "56eea7d5",
   "metadata": {},
   "source": [
    "## From the test scores, it is obvious that both the regularization methods have not improved the Model visibly."
   ]
  },
  {
   "cell_type": "code",
   "execution_count": null,
   "id": "5fba473f",
   "metadata": {},
   "outputs": [],
   "source": []
  }
 ],
 "metadata": {
  "kernelspec": {
   "display_name": "Python 3 (ipykernel)",
   "language": "python",
   "name": "python3"
  },
  "language_info": {
   "codemirror_mode": {
    "name": "ipython",
    "version": 3
   },
   "file_extension": ".py",
   "mimetype": "text/x-python",
   "name": "python",
   "nbconvert_exporter": "python",
   "pygments_lexer": "ipython3",
   "version": "3.9.7"
  }
 },
 "nbformat": 4,
 "nbformat_minor": 5
}
